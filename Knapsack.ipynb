{
 "cells": [
  {
   "cell_type": "code",
   "execution_count": 29,
   "metadata": {},
   "outputs": [],
   "source": [
    "import six\n",
    "import sys\n",
    "sys.modules['sklearn.externals.six'] = six\n",
    "from mlrose_hiive import Knapsack\n",
    "import mlrose_hiive\n",
    "import mlrose\n",
    "import numpy as np\n",
    "import matplotlib.pyplot as plt\n",
    "import networkx as nx\n",
    "from ast import literal_eval"
   ]
  },
  {
   "cell_type": "markdown",
   "metadata": {},
   "source": [
    "## Kanpsack"
   ]
  },
  {
   "cell_type": "code",
   "execution_count": 30,
   "metadata": {},
   "outputs": [],
   "source": [
    "import random\n",
    "\n",
    "SEED = 42\n",
    "\n",
    "np.random.seed(43451)\n",
    "weights = np.random.uniform(low = 1, high = 17, size = 15).astype('int')\n",
    "values = np.random.uniform(low = 10, high = 100, size = 15).astype('int')\n",
    "\n",
    "\n",
    "fitness = mlrose_hiive.Knapsack(weights, values, max_weight_pct = 0.45 )\n",
    "\n",
    "problem = mlrose_hiive.DiscreteOpt(\n",
    "    length = 15,\n",
    "    fitness_fn = fitness,\n",
    "    maximize = True,\n",
    "    max_val = 2    \n",
    ")"
   ]
  },
  {
   "cell_type": "code",
   "execution_count": 31,
   "metadata": {},
   "outputs": [],
   "source": [
    "hill = mlrose_hiive.RHCRunner(\n",
    "    problem = problem,\n",
    "    experiment_name = \"Random_Hill_Climbing_50\",\n",
    "    output_directory = \"Results2/\",\n",
    "    seed = SEED,\n",
    "    iteration_list = 2 ** np.arange(10),\n",
    "    max_attempts = 300,\n",
    "    maximize = True,\n",
    "    restart_list = [10]\n",
    ")"
   ]
  },
  {
   "cell_type": "code",
   "execution_count": 32,
   "metadata": {},
   "outputs": [],
   "source": [
    "hill_run_stats, hill_run_curves = hill.run()"
   ]
  },
  {
   "cell_type": "code",
   "execution_count": 33,
   "metadata": {},
   "outputs": [
    {
     "data": {
      "text/html": [
       "<div>\n",
       "<style scoped>\n",
       "    .dataframe tbody tr th:only-of-type {\n",
       "        vertical-align: middle;\n",
       "    }\n",
       "\n",
       "    .dataframe tbody tr th {\n",
       "        vertical-align: top;\n",
       "    }\n",
       "\n",
       "    .dataframe thead th {\n",
       "        text-align: right;\n",
       "    }\n",
       "</style>\n",
       "<table border=\"1\" class=\"dataframe\">\n",
       "  <thead>\n",
       "    <tr style=\"text-align: right;\">\n",
       "      <th></th>\n",
       "      <th>Iteration</th>\n",
       "      <th>Time</th>\n",
       "      <th>Fitness</th>\n",
       "      <th>FEvals</th>\n",
       "      <th>Restarts</th>\n",
       "      <th>max_iters</th>\n",
       "      <th>maximize</th>\n",
       "      <th>current_restart</th>\n",
       "    </tr>\n",
       "  </thead>\n",
       "  <tbody>\n",
       "    <tr>\n",
       "      <th>1881</th>\n",
       "      <td>1</td>\n",
       "      <td>0.205961</td>\n",
       "      <td>415.0</td>\n",
       "      <td>1887.0</td>\n",
       "      <td>10</td>\n",
       "      <td>512</td>\n",
       "      <td>True</td>\n",
       "      <td>6</td>\n",
       "    </tr>\n",
       "  </tbody>\n",
       "</table>\n",
       "</div>"
      ],
      "text/plain": [
       "      Iteration      Time  Fitness  FEvals  Restarts  max_iters  maximize  \\\n",
       "1881          1  0.205961    415.0  1887.0        10        512      True   \n",
       "\n",
       "      current_restart  \n",
       "1881                6  "
      ]
     },
     "execution_count": 33,
     "metadata": {},
     "output_type": "execute_result"
    }
   ],
   "source": [
    "best_fitness = hill_run_curves['Fitness'].max()\n",
    "best_runs = hill_run_curves[hill_run_curves['Fitness'] == best_fitness]\n",
    "\n",
    "minimum_evaluations = best_runs['FEvals'].min()\n",
    "best_curve_run = best_runs[best_runs['FEvals'] == minimum_evaluations]\n",
    "\n",
    "best_curve_run"
   ]
  },
  {
   "cell_type": "code",
   "execution_count": 34,
   "metadata": {},
   "outputs": [],
   "source": [
    "ann = mlrose_hiive.SARunner(\n",
    "    problem = problem,\n",
    "    experiment_name = \"Simulated_Annealing_50\",\n",
    "    output_directory = \"Results2/\",\n",
    "    seed = SEED,\n",
    "    iteration_list = 2 ** np.arange(10),\n",
    "    max_attempts = 1000,\n",
    "    temperature_list = [3,5,10,15,20],\n",
    "    maximize = True,\n",
    "    decay_list = [mlrose_hiive.GeomDecay]\n",
    ")"
   ]
  },
  {
   "cell_type": "code",
   "execution_count": 35,
   "metadata": {},
   "outputs": [],
   "source": [
    "ann_run_stats, ann_run_curves = ann.run()"
   ]
  },
  {
   "cell_type": "code",
   "execution_count": 36,
   "metadata": {},
   "outputs": [
    {
     "data": {
      "text/html": [
       "<div>\n",
       "<style scoped>\n",
       "    .dataframe tbody tr th:only-of-type {\n",
       "        vertical-align: middle;\n",
       "    }\n",
       "\n",
       "    .dataframe tbody tr th {\n",
       "        vertical-align: top;\n",
       "    }\n",
       "\n",
       "    .dataframe thead th {\n",
       "        text-align: right;\n",
       "    }\n",
       "</style>\n",
       "<table border=\"1\" class=\"dataframe\">\n",
       "  <thead>\n",
       "    <tr style=\"text-align: right;\">\n",
       "      <th></th>\n",
       "      <th>Iteration</th>\n",
       "      <th>Time</th>\n",
       "      <th>Fitness</th>\n",
       "      <th>FEvals</th>\n",
       "      <th>Temperature</th>\n",
       "      <th>max_iters</th>\n",
       "      <th>maximize</th>\n",
       "    </tr>\n",
       "  </thead>\n",
       "  <tbody>\n",
       "    <tr>\n",
       "      <th>2080</th>\n",
       "      <td>28</td>\n",
       "      <td>1.090114</td>\n",
       "      <td>442.0</td>\n",
       "      <td>39.0</td>\n",
       "      <td>20</td>\n",
       "      <td>512</td>\n",
       "      <td>True</td>\n",
       "    </tr>\n",
       "  </tbody>\n",
       "</table>\n",
       "</div>"
      ],
      "text/plain": [
       "      Iteration      Time  Fitness  FEvals Temperature  max_iters  maximize\n",
       "2080         28  1.090114    442.0    39.0          20        512      True"
      ]
     },
     "execution_count": 36,
     "metadata": {},
     "output_type": "execute_result"
    }
   ],
   "source": [
    "best_fitness = ann_run_curves['Fitness'].max()\n",
    "best_runs = ann_run_curves[ann_run_curves['Fitness'] == best_fitness]\n",
    "\n",
    "minimum_evaluations = best_runs['FEvals'].min()\n",
    "best_curve_run = best_runs[best_runs['FEvals'] == minimum_evaluations]\n",
    "\n",
    "best_curve_run"
   ]
  },
  {
   "cell_type": "code",
   "execution_count": 37,
   "metadata": {},
   "outputs": [],
   "source": [
    "ga = mlrose_hiive.GARunner(\n",
    "    problem = problem,\n",
    "    experiment_name = \"Genetic_Algorithm_50\",\n",
    "    output_directory = \"Results2/\",\n",
    "    seed = SEED,\n",
    "    iteration_list = 2 ** np.arange(10),\n",
    "    max_attempts = 1000,\n",
    "    population_sizes = [5,10,15,20],\n",
    "    maximize = True,\n",
    "    mutation_rates = [0.1, 0.15, 0.2, 0.25, 0.4]\n",
    ")"
   ]
  },
  {
   "cell_type": "code",
   "execution_count": 38,
   "metadata": {},
   "outputs": [],
   "source": [
    "ga_run_stats, ga_run_curves = ga.run()"
   ]
  },
  {
   "cell_type": "code",
   "execution_count": 39,
   "metadata": {},
   "outputs": [
    {
     "data": {
      "text/html": [
       "<div>\n",
       "<style scoped>\n",
       "    .dataframe tbody tr th:only-of-type {\n",
       "        vertical-align: middle;\n",
       "    }\n",
       "\n",
       "    .dataframe tbody tr th {\n",
       "        vertical-align: top;\n",
       "    }\n",
       "\n",
       "    .dataframe thead th {\n",
       "        text-align: right;\n",
       "    }\n",
       "</style>\n",
       "<table border=\"1\" class=\"dataframe\">\n",
       "  <thead>\n",
       "    <tr style=\"text-align: right;\">\n",
       "      <th></th>\n",
       "      <th>Iteration</th>\n",
       "      <th>Time</th>\n",
       "      <th>Fitness</th>\n",
       "      <th>FEvals</th>\n",
       "      <th>Population Size</th>\n",
       "      <th>Mutation Rate</th>\n",
       "      <th>max_iters</th>\n",
       "      <th>maximize</th>\n",
       "    </tr>\n",
       "  </thead>\n",
       "  <tbody>\n",
       "    <tr>\n",
       "      <th>2106</th>\n",
       "      <td>54</td>\n",
       "      <td>1.455642</td>\n",
       "      <td>494.0</td>\n",
       "      <td>334.0</td>\n",
       "      <td>5</td>\n",
       "      <td>0.4</td>\n",
       "      <td>512</td>\n",
       "      <td>True</td>\n",
       "    </tr>\n",
       "  </tbody>\n",
       "</table>\n",
       "</div>"
      ],
      "text/plain": [
       "      Iteration      Time  Fitness  FEvals  Population Size  Mutation Rate  \\\n",
       "2106         54  1.455642    494.0   334.0                5            0.4   \n",
       "\n",
       "      max_iters  maximize  \n",
       "2106        512      True  "
      ]
     },
     "execution_count": 39,
     "metadata": {},
     "output_type": "execute_result"
    }
   ],
   "source": [
    "best_fitness = ga_run_curves['Fitness'].max()\n",
    "best_runs = ga_run_curves[ga_run_curves['Fitness'] == best_fitness]\n",
    "\n",
    "minimum_evaluations = best_runs['FEvals'].min()\n",
    "best_curve_run = best_runs[best_runs['FEvals'] == minimum_evaluations]\n",
    "\n",
    "best_curve_run"
   ]
  },
  {
   "cell_type": "code",
   "execution_count": 40,
   "metadata": {},
   "outputs": [],
   "source": [
    "mimic = mlrose_hiive.MIMICRunner(\n",
    "    problem = problem,\n",
    "    use_fast_mimic = True,\n",
    "    experiment_name = \"MIMIC_50\",\n",
    "    output_directory = \"Results2/\",\n",
    "    seed = SEED,\n",
    "    iteration_list = 2 ** np.arange(10),\n",
    "    max_attempts = 2000,\n",
    "    maximize = True,\n",
    "    population_sizes = [5, 7, 10, 15, 20, 25, 50, 100],\n",
    "    keep_percent_list = [0.01, 0.1, 0.15, 0.25, 0.5, 0.7]\n",
    ")"
   ]
  },
  {
   "cell_type": "code",
   "execution_count": 41,
   "metadata": {},
   "outputs": [],
   "source": [
    "mimic_run_stats, mimic_run_curves = mimic.run()"
   ]
  },
  {
   "cell_type": "code",
   "execution_count": 42,
   "metadata": {},
   "outputs": [
    {
     "data": {
      "text/html": [
       "<div>\n",
       "<style scoped>\n",
       "    .dataframe tbody tr th:only-of-type {\n",
       "        vertical-align: middle;\n",
       "    }\n",
       "\n",
       "    .dataframe tbody tr th {\n",
       "        vertical-align: top;\n",
       "    }\n",
       "\n",
       "    .dataframe thead th {\n",
       "        text-align: right;\n",
       "    }\n",
       "</style>\n",
       "<table border=\"1\" class=\"dataframe\">\n",
       "  <thead>\n",
       "    <tr style=\"text-align: right;\">\n",
       "      <th></th>\n",
       "      <th>Iteration</th>\n",
       "      <th>Time</th>\n",
       "      <th>Fitness</th>\n",
       "      <th>FEvals</th>\n",
       "      <th>use_fast_mimic</th>\n",
       "      <th>Population Size</th>\n",
       "      <th>Keep Percent</th>\n",
       "      <th>max_iters</th>\n",
       "      <th>maximize</th>\n",
       "    </tr>\n",
       "  </thead>\n",
       "  <tbody>\n",
       "    <tr>\n",
       "      <th>22060</th>\n",
       "      <td>1</td>\n",
       "      <td>0.305671</td>\n",
       "      <td>494.0</td>\n",
       "      <td>202.0</td>\n",
       "      <td>True</td>\n",
       "      <td>100</td>\n",
       "      <td>0.1</td>\n",
       "      <td>512</td>\n",
       "      <td>True</td>\n",
       "    </tr>\n",
       "  </tbody>\n",
       "</table>\n",
       "</div>"
      ],
      "text/plain": [
       "       Iteration      Time  Fitness  FEvals  use_fast_mimic  Population Size  \\\n",
       "22060          1  0.305671    494.0   202.0            True              100   \n",
       "\n",
       "       Keep Percent  max_iters  maximize  \n",
       "22060           0.1        512      True  "
      ]
     },
     "execution_count": 42,
     "metadata": {},
     "output_type": "execute_result"
    }
   ],
   "source": [
    "best_fitness = mimic_run_curves['Fitness'].max()\n",
    "best_runs = mimic_run_curves[mimic_run_curves['Fitness'] == best_fitness]\n",
    "\n",
    "minimum_evaluations = best_runs['FEvals'].min()\n",
    "best_curve_run = best_runs[best_runs['FEvals'] == minimum_evaluations]\n",
    "\n",
    "best_curve_run"
   ]
  },
  {
   "cell_type": "code",
   "execution_count": null,
   "metadata": {},
   "outputs": [],
   "source": []
  }
 ],
 "metadata": {
  "kernelspec": {
   "display_name": "Python 3",
   "language": "python",
   "name": "python3"
  },
  "language_info": {
   "codemirror_mode": {
    "name": "ipython",
    "version": 3
   },
   "file_extension": ".py",
   "mimetype": "text/x-python",
   "name": "python",
   "nbconvert_exporter": "python",
   "pygments_lexer": "ipython3",
   "version": "3.6.9"
  }
 },
 "nbformat": 4,
 "nbformat_minor": 4
}
