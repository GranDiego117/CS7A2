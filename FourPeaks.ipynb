{
 "cells": [
  {
   "cell_type": "code",
   "execution_count": 1,
   "metadata": {},
   "outputs": [],
   "source": [
    "import six\n",
    "import sys\n",
    "sys.modules['sklearn.externals.six'] = six\n",
    "import mlrose_hiive\n",
    "import mlrose\n",
    "import numpy as np"
   ]
  },
  {
   "cell_type": "markdown",
   "metadata": {},
   "source": [
    "## 100"
   ]
  },
  {
   "cell_type": "code",
   "execution_count": 2,
   "metadata": {},
   "outputs": [],
   "source": [
    "fitness = mlrose_hiive.FourPeaks(t_pct=0.2)\n",
    "#state = np.array([1, 1, 1, 0, 1, 0, 0, 1, 0, 0, 0, 0])\n",
    "#fitness.evaluate(state)\n",
    "\n",
    "SEED = 42\n",
    "\n",
    "problem = mlrose_hiive.DiscreteOpt(\n",
    "    length = 100,\n",
    "    #length = state.size,\n",
    "    fitness_fn = fitness,\n",
    "    maximize = True,\n",
    "    max_val = 2    \n",
    ")\n",
    "\n"
   ]
  },
  {
   "cell_type": "code",
   "execution_count": 3,
   "metadata": {},
   "outputs": [
    {
     "data": {
      "text/plain": [
       "<mlrose_hiive.fitness.four_peaks.FourPeaks at 0x7f127d8ec940>"
      ]
     },
     "execution_count": 3,
     "metadata": {},
     "output_type": "execute_result"
    }
   ],
   "source": [
    "fitness"
   ]
  },
  {
   "cell_type": "code",
   "execution_count": 4,
   "metadata": {},
   "outputs": [],
   "source": [
    "hill = mlrose_hiive.RHCRunner(\n",
    "    problem = problem,\n",
    "    experiment_name = \"Random_Hill_Climbing_100\",\n",
    "    output_directory = \"Results/\",\n",
    "    seed = SEED,\n",
    "    iteration_list = 2 ** np.arange(10),\n",
    "    max_attempts = 2000,\n",
    "    maximize = True,\n",
    "    restart_list = [10]\n",
    ")"
   ]
  },
  {
   "cell_type": "code",
   "execution_count": 5,
   "metadata": {},
   "outputs": [],
   "source": [
    "hill_run_stats, hill_run_curves = hill.run()"
   ]
  },
  {
   "cell_type": "code",
   "execution_count": 6,
   "metadata": {},
   "outputs": [
    {
     "data": {
      "text/html": [
       "<div>\n",
       "<style scoped>\n",
       "    .dataframe tbody tr th:only-of-type {\n",
       "        vertical-align: middle;\n",
       "    }\n",
       "\n",
       "    .dataframe tbody tr th {\n",
       "        vertical-align: top;\n",
       "    }\n",
       "\n",
       "    .dataframe thead th {\n",
       "        text-align: right;\n",
       "    }\n",
       "</style>\n",
       "<table border=\"1\" class=\"dataframe\">\n",
       "  <thead>\n",
       "    <tr style=\"text-align: right;\">\n",
       "      <th></th>\n",
       "      <th>Iteration</th>\n",
       "      <th>Time</th>\n",
       "      <th>Fitness</th>\n",
       "      <th>FEvals</th>\n",
       "      <th>Restarts</th>\n",
       "      <th>max_iters</th>\n",
       "      <th>maximize</th>\n",
       "      <th>current_restart</th>\n",
       "    </tr>\n",
       "  </thead>\n",
       "  <tbody>\n",
       "    <tr>\n",
       "      <th>3576</th>\n",
       "      <td>504</td>\n",
       "      <td>2.404498</td>\n",
       "      <td>26.0</td>\n",
       "      <td>3612.0</td>\n",
       "      <td>10</td>\n",
       "      <td>512</td>\n",
       "      <td>True</td>\n",
       "      <td>6</td>\n",
       "    </tr>\n",
       "  </tbody>\n",
       "</table>\n",
       "</div>"
      ],
      "text/plain": [
       "      Iteration      Time  Fitness  FEvals  Restarts  max_iters  maximize  \\\n",
       "3576        504  2.404498     26.0  3612.0        10        512      True   \n",
       "\n",
       "      current_restart  \n",
       "3576                6  "
      ]
     },
     "execution_count": 6,
     "metadata": {},
     "output_type": "execute_result"
    }
   ],
   "source": [
    "best_fitness = hill_run_curves['Fitness'].max()\n",
    "best_runs = hill_run_curves[hill_run_curves['Fitness'] == best_fitness]\n",
    "\n",
    "minimum_evaluations = best_runs['FEvals'].min()\n",
    "best_curve_run = best_runs[best_runs['FEvals'] == minimum_evaluations]\n",
    "\n",
    "best_curve_run"
   ]
  },
  {
   "cell_type": "code",
   "execution_count": 7,
   "metadata": {},
   "outputs": [],
   "source": [
    "ann = mlrose_hiive.SARunner(\n",
    "    problem = problem,\n",
    "    experiment_name = \"Simulated_Annealing_100\",\n",
    "    output_directory = \"Results/\",\n",
    "    seed = SEED,\n",
    "    iteration_list = 2 ** np.arange(10),\n",
    "    max_attempts = 2000,\n",
    "    temperature_list = [3, 5, 7, 10, 20, 40, 50, 75, 100],\n",
    "    maximize = True,\n",
    "    decay_list = [mlrose_hiive.GeomDecay]\n",
    ")"
   ]
  },
  {
   "cell_type": "code",
   "execution_count": 8,
   "metadata": {},
   "outputs": [],
   "source": [
    "ann_run_stats, ann_run_curves = ann.run()"
   ]
  },
  {
   "cell_type": "code",
   "execution_count": 9,
   "metadata": {},
   "outputs": [
    {
     "data": {
      "text/html": [
       "<div>\n",
       "<style scoped>\n",
       "    .dataframe tbody tr th:only-of-type {\n",
       "        vertical-align: middle;\n",
       "    }\n",
       "\n",
       "    .dataframe tbody tr th {\n",
       "        vertical-align: top;\n",
       "    }\n",
       "\n",
       "    .dataframe thead th {\n",
       "        text-align: right;\n",
       "    }\n",
       "</style>\n",
       "<table border=\"1\" class=\"dataframe\">\n",
       "  <thead>\n",
       "    <tr style=\"text-align: right;\">\n",
       "      <th></th>\n",
       "      <th>Iteration</th>\n",
       "      <th>Time</th>\n",
       "      <th>Fitness</th>\n",
       "      <th>FEvals</th>\n",
       "      <th>Temperature</th>\n",
       "      <th>max_iters</th>\n",
       "      <th>maximize</th>\n",
       "    </tr>\n",
       "  </thead>\n",
       "  <tbody>\n",
       "    <tr>\n",
       "      <th>290</th>\n",
       "      <td>290</td>\n",
       "      <td>2.615407</td>\n",
       "      <td>4.0</td>\n",
       "      <td>573.0</td>\n",
       "      <td>3</td>\n",
       "      <td>512</td>\n",
       "      <td>True</td>\n",
       "    </tr>\n",
       "  </tbody>\n",
       "</table>\n",
       "</div>"
      ],
      "text/plain": [
       "     Iteration      Time  Fitness  FEvals Temperature  max_iters  maximize\n",
       "290        290  2.615407      4.0   573.0           3        512      True"
      ]
     },
     "execution_count": 9,
     "metadata": {},
     "output_type": "execute_result"
    }
   ],
   "source": [
    "best_fitness = ann_run_curves['Fitness'].max()\n",
    "best_runs = ann_run_curves[ann_run_curves['Fitness'] == best_fitness]\n",
    "\n",
    "minimum_evaluations = best_runs['FEvals'].min()\n",
    "best_curve_run = best_runs[best_runs['FEvals'] == minimum_evaluations]\n",
    "\n",
    "best_curve_run"
   ]
  },
  {
   "cell_type": "code",
   "execution_count": 10,
   "metadata": {},
   "outputs": [],
   "source": [
    "ga = mlrose_hiive.GARunner(\n",
    "    problem = problem,\n",
    "    experiment_name = \"Genetic_Algorithm_100\",\n",
    "    output_directory = \"Results/\",\n",
    "    seed = SEED,\n",
    "    iteration_list = 2 ** np.arange(10),\n",
    "    max_attempts = 2000,\n",
    "    population_sizes = [3,5,7,10],\n",
    "    maximize = True,\n",
    "    mutation_rates = [0.1, 0.15, 0.2]\n",
    ")"
   ]
  },
  {
   "cell_type": "code",
   "execution_count": 11,
   "metadata": {},
   "outputs": [],
   "source": [
    "ga_run_stats, ga_run_curves = ga.run()"
   ]
  },
  {
   "cell_type": "code",
   "execution_count": 12,
   "metadata": {},
   "outputs": [
    {
     "data": {
      "text/html": [
       "<div>\n",
       "<style scoped>\n",
       "    .dataframe tbody tr th:only-of-type {\n",
       "        vertical-align: middle;\n",
       "    }\n",
       "\n",
       "    .dataframe tbody tr th {\n",
       "        vertical-align: top;\n",
       "    }\n",
       "\n",
       "    .dataframe thead th {\n",
       "        text-align: right;\n",
       "    }\n",
       "</style>\n",
       "<table border=\"1\" class=\"dataframe\">\n",
       "  <thead>\n",
       "    <tr style=\"text-align: right;\">\n",
       "      <th></th>\n",
       "      <th>Iteration</th>\n",
       "      <th>Time</th>\n",
       "      <th>Fitness</th>\n",
       "      <th>FEvals</th>\n",
       "      <th>Population Size</th>\n",
       "      <th>Mutation Rate</th>\n",
       "      <th>max_iters</th>\n",
       "      <th>maximize</th>\n",
       "    </tr>\n",
       "  </thead>\n",
       "  <tbody>\n",
       "    <tr>\n",
       "      <th>4568</th>\n",
       "      <td>464</td>\n",
       "      <td>2.754611</td>\n",
       "      <td>23.0</td>\n",
       "      <td>3725.0</td>\n",
       "      <td>7</td>\n",
       "      <td>0.2</td>\n",
       "      <td>512</td>\n",
       "      <td>True</td>\n",
       "    </tr>\n",
       "  </tbody>\n",
       "</table>\n",
       "</div>"
      ],
      "text/plain": [
       "      Iteration      Time  Fitness  FEvals  Population Size  Mutation Rate  \\\n",
       "4568        464  2.754611     23.0  3725.0                7            0.2   \n",
       "\n",
       "      max_iters  maximize  \n",
       "4568        512      True  "
      ]
     },
     "execution_count": 12,
     "metadata": {},
     "output_type": "execute_result"
    }
   ],
   "source": [
    "best_fitness = ga_run_curves['Fitness'].max()\n",
    "best_runs = ga_run_curves[ga_run_curves['Fitness'] == best_fitness]\n",
    "\n",
    "minimum_evaluations = best_runs['FEvals'].min()\n",
    "best_curve_run = best_runs[best_runs['FEvals'] == minimum_evaluations]\n",
    "\n",
    "best_curve_run"
   ]
  },
  {
   "cell_type": "code",
   "execution_count": 13,
   "metadata": {},
   "outputs": [],
   "source": [
    "mimic = mlrose_hiive.MIMICRunner(\n",
    "    problem = problem,\n",
    "    use_fast_mimic = True,\n",
    "    experiment_name = \"MIMIC_100\",\n",
    "    output_directory = \"Results/\",\n",
    "    seed = SEED,\n",
    "    iteration_list = 2 ** np.arange(10),\n",
    "    max_attempts = 2000,\n",
    "    population_sizes = [10, 20, 30, 50, 100],\n",
    "    maximize = True,\n",
    "    keep_percent_list = [0.15, 0.25, 0.5]\n",
    ")"
   ]
  },
  {
   "cell_type": "code",
   "execution_count": 14,
   "metadata": {},
   "outputs": [],
   "source": [
    "mimic_run_stats, mimic_run_curves = mimic.run()"
   ]
  },
  {
   "cell_type": "code",
   "execution_count": 15,
   "metadata": {},
   "outputs": [
    {
     "data": {
      "text/html": [
       "<div>\n",
       "<style scoped>\n",
       "    .dataframe tbody tr th:only-of-type {\n",
       "        vertical-align: middle;\n",
       "    }\n",
       "\n",
       "    .dataframe tbody tr th {\n",
       "        vertical-align: top;\n",
       "    }\n",
       "\n",
       "    .dataframe thead th {\n",
       "        text-align: right;\n",
       "    }\n",
       "</style>\n",
       "<table border=\"1\" class=\"dataframe\">\n",
       "  <thead>\n",
       "    <tr style=\"text-align: right;\">\n",
       "      <th></th>\n",
       "      <th>Iteration</th>\n",
       "      <th>Time</th>\n",
       "      <th>Fitness</th>\n",
       "      <th>FEvals</th>\n",
       "      <th>use_fast_mimic</th>\n",
       "      <th>Population Size</th>\n",
       "      <th>Keep Percent</th>\n",
       "      <th>max_iters</th>\n",
       "      <th>maximize</th>\n",
       "    </tr>\n",
       "  </thead>\n",
       "  <tbody>\n",
       "    <tr>\n",
       "      <th>6161</th>\n",
       "      <td>5</td>\n",
       "      <td>1.048929</td>\n",
       "      <td>18.0</td>\n",
       "      <td>609.0</td>\n",
       "      <td>True</td>\n",
       "      <td>100</td>\n",
       "      <td>0.15</td>\n",
       "      <td>512</td>\n",
       "      <td>True</td>\n",
       "    </tr>\n",
       "  </tbody>\n",
       "</table>\n",
       "</div>"
      ],
      "text/plain": [
       "      Iteration      Time  Fitness  FEvals  use_fast_mimic  Population Size  \\\n",
       "6161          5  1.048929     18.0   609.0            True              100   \n",
       "\n",
       "      Keep Percent  max_iters  maximize  \n",
       "6161          0.15        512      True  "
      ]
     },
     "execution_count": 15,
     "metadata": {},
     "output_type": "execute_result"
    }
   ],
   "source": [
    "best_fitness = mimic_run_curves['Fitness'].max()\n",
    "best_runs = mimic_run_curves[mimic_run_curves['Fitness'] == best_fitness]\n",
    "\n",
    "minimum_evaluations = best_runs['FEvals'].min()\n",
    "best_curve_run = best_runs[best_runs['FEvals'] == minimum_evaluations]\n",
    "\n",
    "best_curve_run"
   ]
  },
  {
   "cell_type": "markdown",
   "metadata": {},
   "source": [
    "## 25"
   ]
  },
  {
   "cell_type": "code",
   "execution_count": 16,
   "metadata": {},
   "outputs": [],
   "source": [
    "fitness = mlrose_hiive.FourPeaks(t_pct=0.2)\n",
    "#state = np.array([1, 1, 1, 0, 1, 0, 0, 1, 0, 0, 0, 0])\n",
    "#fitness.evaluate(state)\n",
    "\n",
    "SEED = 42\n",
    "\n",
    "problem = mlrose_hiive.DiscreteOpt(\n",
    "    length = 25,\n",
    "    #length = state.size,\n",
    "    fitness_fn = fitness,\n",
    "    maximize = True,\n",
    "    max_val = 2    \n",
    ")\n",
    "\n"
   ]
  },
  {
   "cell_type": "code",
   "execution_count": 17,
   "metadata": {},
   "outputs": [
    {
     "data": {
      "text/plain": [
       "<mlrose_hiive.fitness.four_peaks.FourPeaks at 0x7f127cd1b2b0>"
      ]
     },
     "execution_count": 17,
     "metadata": {},
     "output_type": "execute_result"
    }
   ],
   "source": [
    "fitness"
   ]
  },
  {
   "cell_type": "code",
   "execution_count": 18,
   "metadata": {},
   "outputs": [],
   "source": [
    "hill = mlrose_hiive.RHCRunner(\n",
    "    problem = problem,\n",
    "    experiment_name = \"Random_Hill_Climbing_25\",\n",
    "    output_directory = \"Results/\",\n",
    "    seed = SEED,\n",
    "    iteration_list = 2 ** np.arange(10),\n",
    "    max_attempts = 2000,\n",
    "    maximize = True,\n",
    "    restart_list = [10]\n",
    ")"
   ]
  },
  {
   "cell_type": "code",
   "execution_count": 19,
   "metadata": {},
   "outputs": [],
   "source": [
    "hill_run_stats, hill_run_curves = hill.run()"
   ]
  },
  {
   "cell_type": "code",
   "execution_count": 20,
   "metadata": {},
   "outputs": [
    {
     "data": {
      "text/html": [
       "<div>\n",
       "<style scoped>\n",
       "    .dataframe tbody tr th:only-of-type {\n",
       "        vertical-align: middle;\n",
       "    }\n",
       "\n",
       "    .dataframe tbody tr th {\n",
       "        vertical-align: top;\n",
       "    }\n",
       "\n",
       "    .dataframe thead th {\n",
       "        text-align: right;\n",
       "    }\n",
       "</style>\n",
       "<table border=\"1\" class=\"dataframe\">\n",
       "  <thead>\n",
       "    <tr style=\"text-align: right;\">\n",
       "      <th></th>\n",
       "      <th>Iteration</th>\n",
       "      <th>Time</th>\n",
       "      <th>Fitness</th>\n",
       "      <th>FEvals</th>\n",
       "      <th>Restarts</th>\n",
       "      <th>max_iters</th>\n",
       "      <th>maximize</th>\n",
       "      <th>current_restart</th>\n",
       "    </tr>\n",
       "  </thead>\n",
       "  <tbody>\n",
       "    <tr>\n",
       "      <th>314</th>\n",
       "      <td>314</td>\n",
       "      <td>2.031795</td>\n",
       "      <td>25.0</td>\n",
       "      <td>328.0</td>\n",
       "      <td>10</td>\n",
       "      <td>512</td>\n",
       "      <td>True</td>\n",
       "      <td>0</td>\n",
       "    </tr>\n",
       "  </tbody>\n",
       "</table>\n",
       "</div>"
      ],
      "text/plain": [
       "     Iteration      Time  Fitness  FEvals  Restarts  max_iters  maximize  \\\n",
       "314        314  2.031795     25.0   328.0        10        512      True   \n",
       "\n",
       "     current_restart  \n",
       "314                0  "
      ]
     },
     "execution_count": 20,
     "metadata": {},
     "output_type": "execute_result"
    }
   ],
   "source": [
    "best_fitness = hill_run_curves['Fitness'].max()\n",
    "best_runs = hill_run_curves[hill_run_curves['Fitness'] == best_fitness]\n",
    "\n",
    "minimum_evaluations = best_runs['FEvals'].min()\n",
    "best_curve_run = best_runs[best_runs['FEvals'] == minimum_evaluations]\n",
    "\n",
    "best_curve_run"
   ]
  },
  {
   "cell_type": "code",
   "execution_count": 21,
   "metadata": {},
   "outputs": [],
   "source": [
    "ann = mlrose_hiive.SARunner(\n",
    "    problem = problem,\n",
    "    experiment_name = \"Simulated_Annealing_25\",\n",
    "    output_directory = \"Results/\",\n",
    "    seed = SEED,\n",
    "    iteration_list = 2 ** np.arange(10),\n",
    "    max_attempts = 2000,\n",
    "    temperature_list = [3, 5, 7, 10, 20, 40, 50, 75, 100],\n",
    "    maximize = True,\n",
    "    decay_list = [mlrose_hiive.GeomDecay]\n",
    ")"
   ]
  },
  {
   "cell_type": "code",
   "execution_count": 22,
   "metadata": {},
   "outputs": [],
   "source": [
    "ann_run_stats, ann_run_curves = ann.run()"
   ]
  },
  {
   "cell_type": "code",
   "execution_count": 23,
   "metadata": {},
   "outputs": [
    {
     "data": {
      "text/html": [
       "<div>\n",
       "<style scoped>\n",
       "    .dataframe tbody tr th:only-of-type {\n",
       "        vertical-align: middle;\n",
       "    }\n",
       "\n",
       "    .dataframe tbody tr th {\n",
       "        vertical-align: top;\n",
       "    }\n",
       "\n",
       "    .dataframe thead th {\n",
       "        text-align: right;\n",
       "    }\n",
       "</style>\n",
       "<table border=\"1\" class=\"dataframe\">\n",
       "  <thead>\n",
       "    <tr style=\"text-align: right;\">\n",
       "      <th></th>\n",
       "      <th>Iteration</th>\n",
       "      <th>Time</th>\n",
       "      <th>Fitness</th>\n",
       "      <th>FEvals</th>\n",
       "      <th>Temperature</th>\n",
       "      <th>max_iters</th>\n",
       "      <th>maximize</th>\n",
       "    </tr>\n",
       "  </thead>\n",
       "  <tbody>\n",
       "    <tr>\n",
       "      <th>1878</th>\n",
       "      <td>339</td>\n",
       "      <td>2.690306</td>\n",
       "      <td>44.0</td>\n",
       "      <td>532.0</td>\n",
       "      <td>10</td>\n",
       "      <td>512</td>\n",
       "      <td>True</td>\n",
       "    </tr>\n",
       "  </tbody>\n",
       "</table>\n",
       "</div>"
      ],
      "text/plain": [
       "      Iteration      Time  Fitness  FEvals Temperature  max_iters  maximize\n",
       "1878        339  2.690306     44.0   532.0          10        512      True"
      ]
     },
     "execution_count": 23,
     "metadata": {},
     "output_type": "execute_result"
    }
   ],
   "source": [
    "best_fitness = ann_run_curves['Fitness'].max()\n",
    "best_runs = ann_run_curves[ann_run_curves['Fitness'] == best_fitness]\n",
    "\n",
    "minimum_evaluations = best_runs['FEvals'].min()\n",
    "best_curve_run = best_runs[best_runs['FEvals'] == minimum_evaluations]\n",
    "\n",
    "best_curve_run"
   ]
  },
  {
   "cell_type": "code",
   "execution_count": 24,
   "metadata": {},
   "outputs": [],
   "source": [
    "ga = mlrose_hiive.GARunner(\n",
    "    problem = problem,\n",
    "    experiment_name = \"Genetic_Algorithm_25\",\n",
    "    output_directory = \"Results/\",\n",
    "    seed = SEED,\n",
    "    iteration_list = 2 ** np.arange(10),\n",
    "    max_attempts = 2000,\n",
    "    population_sizes = [3,5,7,10],\n",
    "    maximize = True,\n",
    "    mutation_rates = [0.1, 0.15, 0.2]\n",
    ")"
   ]
  },
  {
   "cell_type": "code",
   "execution_count": 25,
   "metadata": {},
   "outputs": [],
   "source": [
    "ga_run_stats, ga_run_curves = ga.run()"
   ]
  },
  {
   "cell_type": "code",
   "execution_count": 26,
   "metadata": {},
   "outputs": [
    {
     "data": {
      "text/html": [
       "<div>\n",
       "<style scoped>\n",
       "    .dataframe tbody tr th:only-of-type {\n",
       "        vertical-align: middle;\n",
       "    }\n",
       "\n",
       "    .dataframe tbody tr th {\n",
       "        vertical-align: top;\n",
       "    }\n",
       "\n",
       "    .dataframe thead th {\n",
       "        text-align: right;\n",
       "    }\n",
       "</style>\n",
       "<table border=\"1\" class=\"dataframe\">\n",
       "  <thead>\n",
       "    <tr style=\"text-align: right;\">\n",
       "      <th></th>\n",
       "      <th>Iteration</th>\n",
       "      <th>Time</th>\n",
       "      <th>Fitness</th>\n",
       "      <th>FEvals</th>\n",
       "      <th>Population Size</th>\n",
       "      <th>Mutation Rate</th>\n",
       "      <th>max_iters</th>\n",
       "      <th>maximize</th>\n",
       "    </tr>\n",
       "  </thead>\n",
       "  <tbody>\n",
       "    <tr>\n",
       "      <th>5794</th>\n",
       "      <td>151</td>\n",
       "      <td>2.033695</td>\n",
       "      <td>25.0</td>\n",
       "      <td>1678.0</td>\n",
       "      <td>10</td>\n",
       "      <td>0.2</td>\n",
       "      <td>512</td>\n",
       "      <td>True</td>\n",
       "    </tr>\n",
       "  </tbody>\n",
       "</table>\n",
       "</div>"
      ],
      "text/plain": [
       "      Iteration      Time  Fitness  FEvals  Population Size  Mutation Rate  \\\n",
       "5794        151  2.033695     25.0  1678.0               10            0.2   \n",
       "\n",
       "      max_iters  maximize  \n",
       "5794        512      True  "
      ]
     },
     "execution_count": 26,
     "metadata": {},
     "output_type": "execute_result"
    }
   ],
   "source": [
    "best_fitness = ga_run_curves['Fitness'].max()\n",
    "best_runs = ga_run_curves[ga_run_curves['Fitness'] == best_fitness]\n",
    "\n",
    "minimum_evaluations = best_runs['FEvals'].min()\n",
    "best_curve_run = best_runs[best_runs['FEvals'] == minimum_evaluations]\n",
    "\n",
    "best_curve_run"
   ]
  },
  {
   "cell_type": "code",
   "execution_count": 27,
   "metadata": {},
   "outputs": [],
   "source": [
    "mimic = mlrose_hiive.MIMICRunner(\n",
    "    problem = problem,\n",
    "    use_fast_mimic = True,\n",
    "    experiment_name = \"MIMIC_25\",\n",
    "    output_directory = \"Results/\",\n",
    "    seed = SEED,\n",
    "    iteration_list = 2 ** np.arange(10),\n",
    "    max_attempts = 2000,\n",
    "    population_sizes = [10, 20, 30, 50, 100],\n",
    "    maximize = True,\n",
    "    keep_percent_list = [0.15, 0.25, 0.5]\n",
    ")"
   ]
  },
  {
   "cell_type": "code",
   "execution_count": 28,
   "metadata": {},
   "outputs": [],
   "source": [
    "mimic_run_stats, mimic_run_curves = mimic.run()"
   ]
  },
  {
   "cell_type": "code",
   "execution_count": 29,
   "metadata": {},
   "outputs": [
    {
     "data": {
      "text/html": [
       "<div>\n",
       "<style scoped>\n",
       "    .dataframe tbody tr th:only-of-type {\n",
       "        vertical-align: middle;\n",
       "    }\n",
       "\n",
       "    .dataframe tbody tr th {\n",
       "        vertical-align: top;\n",
       "    }\n",
       "\n",
       "    .dataframe thead th {\n",
       "        text-align: right;\n",
       "    }\n",
       "</style>\n",
       "<table border=\"1\" class=\"dataframe\">\n",
       "  <thead>\n",
       "    <tr style=\"text-align: right;\">\n",
       "      <th></th>\n",
       "      <th>Iteration</th>\n",
       "      <th>Time</th>\n",
       "      <th>Fitness</th>\n",
       "      <th>FEvals</th>\n",
       "      <th>use_fast_mimic</th>\n",
       "      <th>Population Size</th>\n",
       "      <th>Keep Percent</th>\n",
       "      <th>max_iters</th>\n",
       "      <th>maximize</th>\n",
       "    </tr>\n",
       "  </thead>\n",
       "  <tbody>\n",
       "    <tr>\n",
       "      <th>7210</th>\n",
       "      <td>28</td>\n",
       "      <td>1.75003</td>\n",
       "      <td>43.0</td>\n",
       "      <td>2935.0</td>\n",
       "      <td>True</td>\n",
       "      <td>100</td>\n",
       "      <td>0.5</td>\n",
       "      <td>512</td>\n",
       "      <td>True</td>\n",
       "    </tr>\n",
       "  </tbody>\n",
       "</table>\n",
       "</div>"
      ],
      "text/plain": [
       "      Iteration     Time  Fitness  FEvals  use_fast_mimic  Population Size  \\\n",
       "7210         28  1.75003     43.0  2935.0            True              100   \n",
       "\n",
       "      Keep Percent  max_iters  maximize  \n",
       "7210           0.5        512      True  "
      ]
     },
     "execution_count": 29,
     "metadata": {},
     "output_type": "execute_result"
    }
   ],
   "source": [
    "best_fitness = mimic_run_curves['Fitness'].max()\n",
    "best_runs = mimic_run_curves[mimic_run_curves['Fitness'] == best_fitness]\n",
    "\n",
    "minimum_evaluations = best_runs['FEvals'].min()\n",
    "best_curve_run = best_runs[best_runs['FEvals'] == minimum_evaluations]\n",
    "\n",
    "best_curve_run"
   ]
  },
  {
   "cell_type": "markdown",
   "metadata": {},
   "source": [
    "## 200"
   ]
  },
  {
   "cell_type": "code",
   "execution_count": 30,
   "metadata": {},
   "outputs": [],
   "source": [
    "fitness = mlrose_hiive.FourPeaks(t_pct=0.2)\n",
    "#state = np.array([1, 1, 1, 0, 1, 0, 0, 1, 0, 0, 0, 0])\n",
    "#fitness.evaluate(state)\n",
    "\n",
    "SEED = 42\n",
    "\n",
    "problem = mlrose_hiive.DiscreteOpt(\n",
    "    length = 200,\n",
    "    #length = state.size,\n",
    "    fitness_fn = fitness,\n",
    "    maximize = True,\n",
    "    max_val = 2    \n",
    ")\n",
    "\n"
   ]
  },
  {
   "cell_type": "code",
   "execution_count": 31,
   "metadata": {},
   "outputs": [
    {
     "data": {
      "text/plain": [
       "<mlrose_hiive.fitness.four_peaks.FourPeaks at 0x7f127d3865f8>"
      ]
     },
     "execution_count": 31,
     "metadata": {},
     "output_type": "execute_result"
    }
   ],
   "source": [
    "fitness"
   ]
  },
  {
   "cell_type": "code",
   "execution_count": 32,
   "metadata": {},
   "outputs": [],
   "source": [
    "hill = mlrose_hiive.RHCRunner(\n",
    "    problem = problem,\n",
    "    experiment_name = \"Random_Hill_Climbing_200\",\n",
    "    output_directory = \"Results/\",\n",
    "    seed = SEED,\n",
    "    iteration_list = 2 ** np.arange(10),\n",
    "    max_attempts = 2000,\n",
    "    maximize = True,\n",
    "    restart_list = [10]\n",
    ")"
   ]
  },
  {
   "cell_type": "code",
   "execution_count": 33,
   "metadata": {},
   "outputs": [],
   "source": [
    "hill_run_stats, hill_run_curves = hill.run()"
   ]
  },
  {
   "cell_type": "code",
   "execution_count": 34,
   "metadata": {},
   "outputs": [
    {
     "data": {
      "text/html": [
       "<div>\n",
       "<style scoped>\n",
       "    .dataframe tbody tr th:only-of-type {\n",
       "        vertical-align: middle;\n",
       "    }\n",
       "\n",
       "    .dataframe tbody tr th {\n",
       "        vertical-align: top;\n",
       "    }\n",
       "\n",
       "    .dataframe thead th {\n",
       "        text-align: right;\n",
       "    }\n",
       "</style>\n",
       "<table border=\"1\" class=\"dataframe\">\n",
       "  <thead>\n",
       "    <tr style=\"text-align: right;\">\n",
       "      <th></th>\n",
       "      <th>Iteration</th>\n",
       "      <th>Time</th>\n",
       "      <th>Fitness</th>\n",
       "      <th>FEvals</th>\n",
       "      <th>Restarts</th>\n",
       "      <th>max_iters</th>\n",
       "      <th>maximize</th>\n",
       "      <th>current_restart</th>\n",
       "    </tr>\n",
       "  </thead>\n",
       "  <tbody>\n",
       "    <tr>\n",
       "      <th>3048</th>\n",
       "      <td>488</td>\n",
       "      <td>3.035147</td>\n",
       "      <td>20.0</td>\n",
       "      <td>3072.0</td>\n",
       "      <td>10</td>\n",
       "      <td>512</td>\n",
       "      <td>True</td>\n",
       "      <td>5</td>\n",
       "    </tr>\n",
       "  </tbody>\n",
       "</table>\n",
       "</div>"
      ],
      "text/plain": [
       "      Iteration      Time  Fitness  FEvals  Restarts  max_iters  maximize  \\\n",
       "3048        488  3.035147     20.0  3072.0        10        512      True   \n",
       "\n",
       "      current_restart  \n",
       "3048                5  "
      ]
     },
     "execution_count": 34,
     "metadata": {},
     "output_type": "execute_result"
    }
   ],
   "source": [
    "best_fitness = hill_run_curves['Fitness'].max()\n",
    "best_runs = hill_run_curves[hill_run_curves['Fitness'] == best_fitness]\n",
    "\n",
    "minimum_evaluations = best_runs['FEvals'].min()\n",
    "best_curve_run = best_runs[best_runs['FEvals'] == minimum_evaluations]\n",
    "\n",
    "best_curve_run"
   ]
  },
  {
   "cell_type": "code",
   "execution_count": 35,
   "metadata": {},
   "outputs": [],
   "source": [
    "ann = mlrose_hiive.SARunner(\n",
    "    problem = problem,\n",
    "    experiment_name = \"Simulated_Annealing_200\",\n",
    "    output_directory = \"Results/\",\n",
    "    seed = SEED,\n",
    "    iteration_list = 2 ** np.arange(10),\n",
    "    max_attempts = 2000,\n",
    "    temperature_list = [3, 5, 7, 10, 20, 40, 50, 75, 100],\n",
    "    maximize = True,\n",
    "    decay_list = [mlrose_hiive.GeomDecay]\n",
    ")"
   ]
  },
  {
   "cell_type": "code",
   "execution_count": 36,
   "metadata": {},
   "outputs": [],
   "source": [
    "ann_run_stats, ann_run_curves = ann.run()"
   ]
  },
  {
   "cell_type": "code",
   "execution_count": 37,
   "metadata": {},
   "outputs": [
    {
     "data": {
      "text/html": [
       "<div>\n",
       "<style scoped>\n",
       "    .dataframe tbody tr th:only-of-type {\n",
       "        vertical-align: middle;\n",
       "    }\n",
       "\n",
       "    .dataframe tbody tr th {\n",
       "        vertical-align: top;\n",
       "    }\n",
       "\n",
       "    .dataframe thead th {\n",
       "        text-align: right;\n",
       "    }\n",
       "</style>\n",
       "<table border=\"1\" class=\"dataframe\">\n",
       "  <thead>\n",
       "    <tr style=\"text-align: right;\">\n",
       "      <th></th>\n",
       "      <th>Iteration</th>\n",
       "      <th>Time</th>\n",
       "      <th>Fitness</th>\n",
       "      <th>FEvals</th>\n",
       "      <th>Temperature</th>\n",
       "      <th>max_iters</th>\n",
       "      <th>maximize</th>\n",
       "    </tr>\n",
       "  </thead>\n",
       "  <tbody>\n",
       "    <tr>\n",
       "      <th>135</th>\n",
       "      <td>135</td>\n",
       "      <td>1.74063</td>\n",
       "      <td>3.0</td>\n",
       "      <td>269.0</td>\n",
       "      <td>3</td>\n",
       "      <td>512</td>\n",
       "      <td>True</td>\n",
       "    </tr>\n",
       "  </tbody>\n",
       "</table>\n",
       "</div>"
      ],
      "text/plain": [
       "     Iteration     Time  Fitness  FEvals Temperature  max_iters  maximize\n",
       "135        135  1.74063      3.0   269.0           3        512      True"
      ]
     },
     "execution_count": 37,
     "metadata": {},
     "output_type": "execute_result"
    }
   ],
   "source": [
    "best_fitness = ann_run_curves['Fitness'].max()\n",
    "best_runs = ann_run_curves[ann_run_curves['Fitness'] == best_fitness]\n",
    "\n",
    "minimum_evaluations = best_runs['FEvals'].min()\n",
    "best_curve_run = best_runs[best_runs['FEvals'] == minimum_evaluations]\n",
    "\n",
    "best_curve_run"
   ]
  },
  {
   "cell_type": "code",
   "execution_count": 38,
   "metadata": {},
   "outputs": [],
   "source": [
    "ga = mlrose_hiive.GARunner(\n",
    "    problem = problem,\n",
    "    experiment_name = \"Genetic_Algorithm_200\",\n",
    "    output_directory = \"Results/\",\n",
    "    seed = SEED,\n",
    "    iteration_list = 2 ** np.arange(10),\n",
    "    max_attempts = 2000,\n",
    "    population_sizes = [3,5,7,10],\n",
    "    maximize = True,\n",
    "    mutation_rates = [0.1, 0.15, 0.2]\n",
    ")"
   ]
  },
  {
   "cell_type": "code",
   "execution_count": 39,
   "metadata": {},
   "outputs": [],
   "source": [
    "ga_run_stats, ga_run_curves = ga.run()"
   ]
  },
  {
   "cell_type": "code",
   "execution_count": 40,
   "metadata": {},
   "outputs": [
    {
     "data": {
      "text/html": [
       "<div>\n",
       "<style scoped>\n",
       "    .dataframe tbody tr th:only-of-type {\n",
       "        vertical-align: middle;\n",
       "    }\n",
       "\n",
       "    .dataframe tbody tr th {\n",
       "        vertical-align: top;\n",
       "    }\n",
       "\n",
       "    .dataframe thead th {\n",
       "        text-align: right;\n",
       "    }\n",
       "</style>\n",
       "<table border=\"1\" class=\"dataframe\">\n",
       "  <thead>\n",
       "    <tr style=\"text-align: right;\">\n",
       "      <th></th>\n",
       "      <th>Iteration</th>\n",
       "      <th>Time</th>\n",
       "      <th>Fitness</th>\n",
       "      <th>FEvals</th>\n",
       "      <th>Population Size</th>\n",
       "      <th>Mutation Rate</th>\n",
       "      <th>max_iters</th>\n",
       "      <th>maximize</th>\n",
       "    </tr>\n",
       "  </thead>\n",
       "  <tbody>\n",
       "    <tr>\n",
       "      <th>4608</th>\n",
       "      <td>504</td>\n",
       "      <td>2.46478</td>\n",
       "      <td>22.0</td>\n",
       "      <td>4046.0</td>\n",
       "      <td>7</td>\n",
       "      <td>0.2</td>\n",
       "      <td>512</td>\n",
       "      <td>True</td>\n",
       "    </tr>\n",
       "  </tbody>\n",
       "</table>\n",
       "</div>"
      ],
      "text/plain": [
       "      Iteration     Time  Fitness  FEvals  Population Size  Mutation Rate  \\\n",
       "4608        504  2.46478     22.0  4046.0                7            0.2   \n",
       "\n",
       "      max_iters  maximize  \n",
       "4608        512      True  "
      ]
     },
     "execution_count": 40,
     "metadata": {},
     "output_type": "execute_result"
    }
   ],
   "source": [
    "best_fitness = ga_run_curves['Fitness'].max()\n",
    "best_runs = ga_run_curves[ga_run_curves['Fitness'] == best_fitness]\n",
    "\n",
    "minimum_evaluations = best_runs['FEvals'].min()\n",
    "best_curve_run = best_runs[best_runs['FEvals'] == minimum_evaluations]\n",
    "\n",
    "best_curve_run"
   ]
  },
  {
   "cell_type": "code",
   "execution_count": 41,
   "metadata": {},
   "outputs": [],
   "source": [
    "mimic = mlrose_hiive.MIMICRunner(\n",
    "    problem = problem,\n",
    "    use_fast_mimic = True,\n",
    "    experiment_name = \"MIMIC_200\",\n",
    "    output_directory = \"Results/\",\n",
    "    seed = SEED,\n",
    "    iteration_list = 2 ** np.arange(10),\n",
    "    max_attempts = 2000,\n",
    "    population_sizes = [10, 20, 30, 50, 100],\n",
    "    maximize = True,\n",
    "    keep_percent_list = [0.15, 0.25, 0.5]\n",
    ")"
   ]
  },
  {
   "cell_type": "code",
   "execution_count": 45,
   "metadata": {},
   "outputs": [],
   "source": [
    "mimic_run_stats, mimic_run_curves = mimic.run()"
   ]
  },
  {
   "cell_type": "code",
   "execution_count": 46,
   "metadata": {},
   "outputs": [
    {
     "data": {
      "text/html": [
       "<div>\n",
       "<style scoped>\n",
       "    .dataframe tbody tr th:only-of-type {\n",
       "        vertical-align: middle;\n",
       "    }\n",
       "\n",
       "    .dataframe tbody tr th {\n",
       "        vertical-align: top;\n",
       "    }\n",
       "\n",
       "    .dataframe thead th {\n",
       "        text-align: right;\n",
       "    }\n",
       "</style>\n",
       "<table border=\"1\" class=\"dataframe\">\n",
       "  <thead>\n",
       "    <tr style=\"text-align: right;\">\n",
       "      <th></th>\n",
       "      <th>Iteration</th>\n",
       "      <th>Time</th>\n",
       "      <th>Fitness</th>\n",
       "      <th>FEvals</th>\n",
       "      <th>use_fast_mimic</th>\n",
       "      <th>Population Size</th>\n",
       "      <th>Keep Percent</th>\n",
       "      <th>max_iters</th>\n",
       "      <th>maximize</th>\n",
       "    </tr>\n",
       "  </thead>\n",
       "  <tbody>\n",
       "    <tr>\n",
       "      <th>6164</th>\n",
       "      <td>8</td>\n",
       "      <td>1.425638</td>\n",
       "      <td>18.0</td>\n",
       "      <td>914.0</td>\n",
       "      <td>True</td>\n",
       "      <td>100</td>\n",
       "      <td>0.15</td>\n",
       "      <td>512</td>\n",
       "      <td>True</td>\n",
       "    </tr>\n",
       "  </tbody>\n",
       "</table>\n",
       "</div>"
      ],
      "text/plain": [
       "      Iteration      Time  Fitness  FEvals  use_fast_mimic  Population Size  \\\n",
       "6164          8  1.425638     18.0   914.0            True              100   \n",
       "\n",
       "      Keep Percent  max_iters  maximize  \n",
       "6164          0.15        512      True  "
      ]
     },
     "execution_count": 46,
     "metadata": {},
     "output_type": "execute_result"
    }
   ],
   "source": [
    "best_fitness = mimic_run_curves['Fitness'].max()\n",
    "best_runs = mimic_run_curves[mimic_run_curves['Fitness'] == best_fitness]\n",
    "\n",
    "minimum_evaluations = best_runs['FEvals'].min()\n",
    "best_curve_run = best_runs[best_runs['FEvals'] == minimum_evaluations]\n",
    "\n",
    "best_curve_run"
   ]
  },
  {
   "cell_type": "code",
   "execution_count": null,
   "metadata": {},
   "outputs": [],
   "source": []
  }
 ],
 "metadata": {
  "kernelspec": {
   "display_name": "Python 3",
   "language": "python",
   "name": "python3"
  },
  "language_info": {
   "codemirror_mode": {
    "name": "ipython",
    "version": 3
   },
   "file_extension": ".py",
   "mimetype": "text/x-python",
   "name": "python",
   "nbconvert_exporter": "python",
   "pygments_lexer": "ipython3",
   "version": "3.6.9"
  }
 },
 "nbformat": 4,
 "nbformat_minor": 4
}
